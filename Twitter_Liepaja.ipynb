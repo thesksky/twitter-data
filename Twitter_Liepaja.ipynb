{
 "cells": [
  {
   "cell_type": "code",
   "execution_count": 34,
   "metadata": {},
   "outputs": [],
   "source": [
    "import tweepy\n",
    "from tweepy import OAuthHandler\n",
    "from tweepy import API\n",
    "\n",
    "import os\n",
    "import csv\n",
    "import json\n",
    "\n",
    "import pandas as pd\n",
    "import numpy as np\n",
    "import matplotlib.pyplot as plt\n",
    "from wordcloud import WordCloud, STOPWORDS\n",
    "import imageio\n",
    "\n",
    "import nltk\n",
    "from nltk.corpus import stopwords\n",
    "\n",
    "# import sys\n",
    "# which Python it's running in     sys.executable\n",
    "# where it's looking for imports   sys.path "
   ]
  },
  {
   "cell_type": "code",
   "execution_count": 23,
   "metadata": {},
   "outputs": [],
   "source": [
    "# Store OAuth authentication credentials in relevant variables\n",
    "access_token = \"YourToken\"\n",
    "access_token_secret = \"YourTokenSecret\"\n",
    "consumer_key = \"YourKey\"\n",
    "consumer_secret = \"YourSecret\"\n",
    "\n",
    "# Pass OAuth details to tweepy's OAuth handler\n",
    "auth = tweepy.OAuthHandler(consumer_key,consumer_secret)\n",
    "auth.set_access_token(access_token,access_token_secret)\n",
    "\n",
    "# Set up the API with the authentication handler\n",
    "api = tweepy.API(auth, wait_on_rate_limit=True, wait_on_rate_limit_notify= True)"
   ]
  },
  {
   "cell_type": "markdown",
   "metadata": {},
   "source": [
    "## Search & save tweets"
   ]
  },
  {
   "cell_type": "code",
   "execution_count": 24,
   "metadata": {},
   "outputs": [
    {
     "data": {
      "text/plain": [
       "385"
      ]
     },
     "execution_count": 24,
     "metadata": {},
     "output_type": "execute_result"
    }
   ],
   "source": [
    "tweetsjs = [] \n",
    "\n",
    "for tweet in tweepy.Cursor(api.search, q=('#Liepaja OR #Liepāja OR Liepaja OR Liepāja -filter:retweets'), tweet_mode='extended').items(100000):\n",
    "    tweetsjs.append(tweet._json)\n",
    "    \n",
    "df_tweetsjs = pd.DataFrame(tweetsjs)\n",
    "\n",
    "W = pd.ExcelWriter('tweetsjs_Liepaja Oct18.xlsx')\n",
    "df_tweetsjs.to_excel(W)\n",
    "W.save()\n",
    "\n",
    "len(tweetsjs)"
   ]
  },
  {
   "cell_type": "markdown",
   "metadata": {},
   "source": [
    "## Trending tweets in geo location"
   ]
  },
  {
   "cell_type": "code",
   "execution_count": 25,
   "metadata": {},
   "outputs": [
    {
     "name": "stdout",
     "output_type": "stream",
     "text": [
      "#MakeItRight\n",
      "saeimas\n",
      "Manuprāt\n",
      "valkas\n",
      "Kaut\n",
      "Spānijas\n",
      "Labāk\n",
      "Jelgavā\n",
      "kremļa\n",
      "polijas\n",
      "#dienasbizness\n",
      "latvijai\n",
      "valsts\n",
      "Labdien\n",
      "Krievijā\n",
      "brexit\n",
      "PSRS\n",
      "nezinu\n",
      "Barona\n",
      "rīga\n",
      "tātad\n",
      "sveiks\n",
      "esmu\n",
      "Tramps\n",
      "Latvian\n",
      "ukrainas\n",
      "#teirdarbs\n",
      "#ESfondi\n",
      "Viņi\n",
      "mūsu\n",
      "iespējams\n",
      "Vācijas\n",
      "#прибалтика\n"
     ]
    }
   ],
   "source": [
    "Latvia_WOE_ID = 23424874\n",
    "# Where-On-Earth\n",
    "# looked up from the Creative commons licenced https://archive.org/search.php?query=geoplanet\n",
    "\n",
    "trends = api.trends_place(Latvia_WOE_ID)\n",
    " \n",
    "trends = json.loads(json.dumps(trends, indent=1))\n",
    " \n",
    "for trend in trends[0][\"trends\"]:\n",
    "    print (trend[\"name\"])\n",
    "    \n",
    "    # print (trend[\"tweet_volume\"])  # As per Twitter documentation, only prints volume if available"
   ]
  },
  {
   "cell_type": "markdown",
   "metadata": {},
   "source": [
    "## All tweets in Liepaja"
   ]
  },
  {
   "cell_type": "code",
   "execution_count": 26,
   "metadata": {},
   "outputs": [
    {
     "data": {
      "text/plain": [
       "697"
      ]
     },
     "execution_count": 26,
     "metadata": {},
     "output_type": "execute_result"
    }
   ],
   "source": [
    "tweets = []\n",
    "\n",
    "for tweet in tweepy.Cursor(api.search, q=('-filter:retweets'), geocode='56.511976,21.014182,5km', lang=\"lv OR en\", tweet_mode='extended').items(100000):\n",
    "    tweets.append(tweet)\n",
    "    \n",
    "len(tweets)"
   ]
  },
  {
   "cell_type": "code",
   "execution_count": 27,
   "metadata": {},
   "outputs": [],
   "source": [
    "## The Entities column has Hashtags among many other things, \n",
    "## for example {'hashtags': [{'text': 'liepāja', 'indices': [129, 137]}], 'symbols': [], 'user_mentions': [], 'urls': []}\n",
    "\n",
    "Ht_df = pd.DataFrame()\n",
    "j = 0\n",
    "\n",
    "for tweet in range(0,len(tweets)):\n",
    "    hashtag = tweets[tweet].entities.get('hashtags')\n",
    "    for i in range(0,len(hashtag)):\n",
    "        Ht = hashtag[i]['text'] \n",
    "        Ht_df.at[j,'Hashtag'] = Ht\n",
    "        j = j+1"
   ]
  },
  {
   "cell_type": "code",
   "execution_count": 28,
   "metadata": {},
   "outputs": [
    {
     "name": "stdout",
     "output_type": "stream",
     "text": [
      "[['kiaardala']\n",
      " ['xceed']\n",
      " ['brandnewkia']\n",
      " ['liepāja']\n",
      " ['teamfēnikss']]\n"
     ]
    }
   ],
   "source": [
    "print(Ht_df.values[0:5])"
   ]
  },
  {
   "cell_type": "code",
   "execution_count": 29,
   "metadata": {},
   "outputs": [
    {
     "name": "stdout",
     "output_type": "stream",
     "text": [
      "[nltk_data] Downloading package stopwords to\n",
      "[nltk_data]     C:\\Users\\thesk\\AppData\\Roaming\\nltk_data...\n",
      "[nltk_data]   Package stopwords is already up-to-date!\n"
     ]
    },
    {
     "data": {
      "text/plain": [
       "True"
      ]
     },
     "execution_count": 29,
     "metadata": {},
     "output_type": "execute_result"
    }
   ],
   "source": [
    "nltk.download('stopwords')"
   ]
  },
  {
   "cell_type": "code",
   "execution_count": 30,
   "metadata": {},
   "outputs": [],
   "source": [
    "# coding: utf8\n",
    "from __future__ import unicode_literals\n",
    "\n",
    "# Source: https://github.com/stopwords-iso/stopwords-lv\n",
    "\n",
    "Latvian_stop_words = set(\n",
    "    \"\"\"\n",
    "aiz\n",
    "ap\n",
    "apakš\n",
    "apakšpus\n",
    "ar\n",
    "arī\n",
    "augšpus\n",
    "bet\n",
    "bez\n",
    "bija\n",
    "biji\n",
    "biju\n",
    "bijām\n",
    "bijāt\n",
    "būs\n",
    "būsi\n",
    "būsiet\n",
    "būsim\n",
    "būt\n",
    "būšu\n",
    "caur\n",
    "diemžēl\n",
    "diezin\n",
    "droši\n",
    "dēļ\n",
    "esam\n",
    "esat\n",
    "esi\n",
    "esmu\n",
    "gan\n",
    "gar\n",
    "iekam\n",
    "iekams\n",
    "iekām\n",
    "iekāms\n",
    "iekš\n",
    "iekšpus\n",
    "ik\n",
    "ir\n",
    "it\n",
    "itin\n",
    "iz\n",
    "ja\n",
    "jau\n",
    "jeb\n",
    "jebšu\n",
    "jel\n",
    "jo\n",
    "jā\n",
    "ka\n",
    "kamēr\n",
    "kaut\n",
    "kolīdz\n",
    "kopš\n",
    "kā\n",
    "kļuva\n",
    "kļuvi\n",
    "kļuvu\n",
    "kļuvām\n",
    "kļuvāt\n",
    "kļūs\n",
    "kļūsi\n",
    "kļūsiet\n",
    "kļūsim\n",
    "kļūst\n",
    "kļūstam\n",
    "kļūstat\n",
    "kļūsti\n",
    "kļūstu\n",
    "kļūt\n",
    "kļūšu\n",
    "labad\n",
    "lai\n",
    "lejpus\n",
    "līdz\n",
    "līdzko\n",
    "ne\n",
    "nebūt\n",
    "nedz\n",
    "nekā\n",
    "nevis\n",
    "nezin\n",
    "no\n",
    "nu\n",
    "nē\n",
    "otrpus\n",
    "pa\n",
    "par\n",
    "pat\n",
    "pie\n",
    "pirms\n",
    "pret\n",
    "priekš\n",
    "pār\n",
    "pēc\n",
    "starp\n",
    "tad\n",
    "tak\n",
    "tapi\n",
    "taps\n",
    "tapsi\n",
    "tapsiet\n",
    "tapsim\n",
    "tapt\n",
    "tapāt\n",
    "tapšu\n",
    "taču\n",
    "te\n",
    "tiec\n",
    "tiek\n",
    "tiekam\n",
    "tiekat\n",
    "tieku\n",
    "tik\n",
    "tika\n",
    "tikai\n",
    "tiki\n",
    "tikko\n",
    "tiklab\n",
    "tiklīdz\n",
    "tiks\n",
    "tiksiet\n",
    "tiksim\n",
    "tikt\n",
    "tiku\n",
    "tikvien\n",
    "tikām\n",
    "tikāt\n",
    "tikšu\n",
    "tomēr\n",
    "topat\n",
    "turpretim\n",
    "turpretī\n",
    "tā\n",
    "tādēļ\n",
    "tālab\n",
    "tāpēc\n",
    "un\n",
    "uz\n",
    "vai\n",
    "var\n",
    "varat\n",
    "varēja\n",
    "varēji\n",
    "varēju\n",
    "varējām\n",
    "varējāt\n",
    "varēs\n",
    "varēsi\n",
    "varēsiet\n",
    "varēsim\n",
    "varēt\n",
    "varēšu\n",
    "vien\n",
    "virs\n",
    "virspus\n",
    "vis\n",
    "viņpus\n",
    "zem\n",
    "ārpus\n",
    "šaipus\n",
    "\"\"\".split()\n",
    ")"
   ]
  },
  {
   "cell_type": "code",
   "execution_count": 31,
   "metadata": {},
   "outputs": [],
   "source": [
    "STOPWORDS = nltk.corpus.stopwords.words('english')\n",
    "STOPWORDS.extend(Latvian_stop_words)"
   ]
  },
  {
   "cell_type": "code",
   "execution_count": 32,
   "metadata": {},
   "outputs": [
    {
     "name": "stdout",
     "output_type": "stream",
     "text": [
      "iaardala xceed brandnewkia liepāja teamfēnikss teamolimpiks Liepāja izlase vaiarīne Latvijā LaiksPa\n"
     ]
    }
   ],
   "source": [
    "Ht_string = \" \".join(Ht_df['Hashtag'])  ##.values.astype(str))\n",
    "print(Ht_string[1:100])"
   ]
  },
  {
   "cell_type": "code",
   "execution_count": 39,
   "metadata": {},
   "outputs": [
    {
     "data": {
      "text/plain": [
       "(-0.5, 999.5, 807.5, -0.5)"
      ]
     },
     "execution_count": 39,
     "metadata": {},
     "output_type": "execute_result"
    },
    {
     "data": {
      "image/png": "[encoded data removed]",
      "text/plain": [
       "<Figure size 1080x540 with 1 Axes>"
      ]
     },
     "metadata": {
      "needs_background": "light"
     },
     "output_type": "display_data"
    }
   ],
   "source": [
    "Tweet_mask = imageio.imread(\"C:\\\\Users\\\\thesk\\\\Desktop\\\\twitter_mask.png\")\n",
    "\n",
    "wc = WordCloud(background_color=\"white\", stopwords=STOPWORDS, mask = Tweet_mask)\n",
    "wc.generate(Ht_string)\n",
    "plt.figure(figsize=(15,7.5))\n",
    "plt.imshow(wc)\n",
    "plt.axis(\"off\")"
   ]
  }
 ],
 "metadata": {
  "kernelspec": {
   "display_name": "Python 3",
   "language": "python",
   "name": "python3"
  },
  "language_info": {
   "codemirror_mode": {
    "name": "ipython",
    "version": 3
   },
   "file_extension": ".py",
   "mimetype": "text/x-python",
   "name": "python",
   "nbconvert_exporter": "python",
   "pygments_lexer": "ipython3",
   "version": "3.7.0"
  }
 },
 "nbformat": 4,
 "nbformat_minor": 2
}
